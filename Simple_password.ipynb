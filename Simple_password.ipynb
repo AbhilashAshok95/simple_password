{
 "cells": [
  {
   "cell_type": "code",
   "execution_count": null,
   "metadata": {},
   "outputs": [],
   "source": [
    "password = \"Python@987\"\n",
    "\n",
    "for trial in range(1,5):\n",
    "    if trial==4:\n",
    "        print('Last Trial is Left')\n",
    "        \n",
    "    \n",
    "    enter_password = input('Enter your Password :')\n",
    "    \n",
    "    if enter_password == password:\n",
    "        print(\"Congratulation you have successfully Logged in :-)\")\n",
    "        break\n",
    "        \n",
    "    else:\n",
    "        print(\"Wrong Password,Kindly try again\")"
   ]
  },
  {
   "cell_type": "code",
   "execution_count": null,
   "metadata": {},
   "outputs": [],
   "source": []
  },
  {
   "cell_type": "code",
   "execution_count": null,
   "metadata": {},
   "outputs": [],
   "source": []
  }
 ],
 "metadata": {
  "kernelspec": {
   "display_name": "Python 3",
   "language": "python",
   "name": "python3"
  },
  "language_info": {
   "codemirror_mode": {
    "name": "ipython",
    "version": 3
   },
   "file_extension": ".py",
   "mimetype": "text/x-python",
   "name": "python",
   "nbconvert_exporter": "python",
   "pygments_lexer": "ipython3",
   "version": "3.8.5"
  }
 },
 "nbformat": 4,
 "nbformat_minor": 4
}
